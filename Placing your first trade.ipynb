{
 "cells": [
  {
   "cell_type": "markdown",
   "metadata": {},
   "source": [
    "# Placing your first lemon.markets trade\n",
    "\n",
    "In this script, you'll learn how to place & execute your first order using the lemon.markets trading API. You'll need to fill in your own `API_KEY`, which you'll receive upon [signing up](https://dashboard.lemon.markets/signup/) to lemon.markets.\n",
    "\n",
    "If you're interested in a [quickstart guide](https://docs.lemon.markets/quickstart) or detailed explanation of the [`/orders` endpoint](https://docs.lemon.markets/trading/orders), refer to our [documentation](https://docs.lemon.markets/). 🍋\n",
    "\n",
    "We'll begin by importing the relevant libraries and setting up our project."
   ]
  },
  {
   "cell_type": "code",
   "execution_count": 2,
   "metadata": {},
   "outputs": [],
   "source": [
    "# import libraries\n",
    "import requests\n",
    "import json"
   ]
  },
  {
   "cell_type": "code",
   "execution_count": 3,
   "metadata": {},
   "outputs": [],
   "source": [
    "# base URL for paper trading API\n",
    "URL = \"https://paper-trading.lemon.markets/v1/\"\n",
    "\n",
    "# fill in your own API key here\n",
    "API_KEY = \"\""
   ]
  },
  {
   "cell_type": "markdown",
   "metadata": {},
   "source": [
    "We're going to define a function that places a trade using the `/orders` endpoint. You can specify several input parameters: isin, expires_at, side, quantity, venue, stop_price and limit_price. More information can be found, [here](https://docs.lemon.markets/trading/orders#request-body-parameters)."
   ]
  },
  {
   "cell_type": "code",
   "execution_count": 4,
   "metadata": {},
   "outputs": [],
   "source": [
    "def place_trade(isin: str, expires_at: str, side: str, quantity: int, venue: str, stop_price: int = None, limit_price: int = None):\n",
    "    request = requests.post(URL + \"orders/\",\n",
    "                           data=json.dumps({\n",
    "                               \"isin\": isin,\n",
    "                               \"expires_at\": expires_at,\n",
    "                               \"side\": side,\n",
    "                               \"quantity\": quantity,\n",
    "                               \"venue\": venue,\n",
    "                               \"stop_price\": stop_price,\n",
    "                               \"limit_price\": limit_price\n",
    "                           }),\n",
    "                           headers={\"Authorization\": \"Bearer \" + API_KEY})\n",
    "    return request.json()   "
   ]
  },
  {
   "cell_type": "markdown",
   "metadata": {},
   "source": [
    "Let's use our newly defined function to place a buy order for 5 shares of Twitter Inc. on the Munich Stock Exchange. "
   ]
  },
  {
   "cell_type": "code",
   "execution_count": 5,
   "metadata": {},
   "outputs": [
    {
     "data": {
      "text/plain": [
       "{'time': '2022-05-12T08:43:39.605+00:00',\n",
       " 'mode': 'paper',\n",
       " 'status': 'ok',\n",
       " 'results': {'created_at': '2022-05-12T08:43:39.505+00:00',\n",
       "  'id': 'ord_qyHQL22zzqHq483gsF8Hb2xtXs3Pl5Fjzp',\n",
       "  'status': 'inactive',\n",
       "  'regulatory_information': {'costs_entry': 20000,\n",
       "   'costs_entry_pct': '0.92%',\n",
       "   'costs_running': 0,\n",
       "   'costs_running_pct': '0.00%',\n",
       "   'costs_product': 0,\n",
       "   'costs_product_pct': '0.00%',\n",
       "   'costs_exit': 20000,\n",
       "   'costs_exit_pct': '0.92%',\n",
       "   'yield_reduction_year': 20000,\n",
       "   'yield_reduction_year_pct': '0.92%',\n",
       "   'yield_reduction_year_following': 0,\n",
       "   'yield_reduction_year_following_pct': '0.00%',\n",
       "   'yield_reduction_year_exit': 20000,\n",
       "   'yield_reduction_year_exit_pct': '0.92%',\n",
       "   'estimated_holding_duration_years': '5',\n",
       "   'estimated_yield_reduction_total': 40000,\n",
       "   'estimated_yield_reduction_total_pct': '1.84%',\n",
       "   'KIID': 'text',\n",
       "   'legal_disclaimer': 'text'},\n",
       "  'isin': 'US90184L1026',\n",
       "  'expires_at': '2022-05-12T21:59:00.000+00:00',\n",
       "  'side': 'buy',\n",
       "  'quantity': 5,\n",
       "  'stop_price': None,\n",
       "  'limit_price': None,\n",
       "  'venue': 'xmun',\n",
       "  'estimated_price': 433750,\n",
       "  'estimated_price_total': 2168750,\n",
       "  'notes': None,\n",
       "  'charge': 0,\n",
       "  'chargeable_at': None,\n",
       "  'key_creation_id': 'apk_pyPPYGGGGdzMGV6DWPrhBr9ts7lkKsG7pf',\n",
       "  'idempotency': None}}"
      ]
     },
     "execution_count": 5,
     "metadata": {},
     "output_type": "execute_result"
    }
   ],
   "source": [
    "place_trade(\"US90184L1026\", \"p0d\", \"buy\", 5, \"XMUN\")"
   ]
  },
  {
   "cell_type": "markdown",
   "metadata": {},
   "source": [
    "You'll notice that the `status` of the order (found within the `results` dictionary) is currently set to `inactive`. At lemon.markets, we use Two-Factor Authentication to increase security and ensure that all trades you places are intentional, you can find more information, [here](https://docs.lemon.markets/trading/orders#activating-an-order). To execute the above order, we must place a request against the `/activate` endpoint. Let's define a new function for this step."
   ]
  },
  {
   "cell_type": "code",
   "execution_count": 6,
   "metadata": {},
   "outputs": [],
   "source": [
    "def activate_trade(order_id: str, pin:str=\"1234\"):\n",
    "    request = requests.post(URL + f\"orders/{order_id}/activate\",\n",
    "                           data = json.dumps({\n",
    "                               \"pin\": pin,\n",
    "                           }),\n",
    "                           headers={\"Authorization\": \"Bearer \" + API_KEY})\n",
    "    return request.json()"
   ]
  },
  {
   "cell_type": "markdown",
   "metadata": {},
   "source": [
    "You'll notice that we need the order ID to activate the order. Let's place a new order and store the results in the `order` variable such that we can access its contents."
   ]
  },
  {
   "cell_type": "code",
   "execution_count": 7,
   "metadata": {},
   "outputs": [],
   "source": [
    "order = place_trade(\"US90184L1026\", \"p0d\", \"buy\", 5, \"ALLDAY\")\n",
    "\n",
    "order_id = order.get('results').get('id')"
   ]
  },
  {
   "cell_type": "markdown",
   "metadata": {},
   "source": [
    "Let's use our activation method."
   ]
  },
  {
   "cell_type": "code",
   "execution_count": 8,
   "metadata": {},
   "outputs": [
    {
     "data": {
      "text/plain": [
       "{'time': '2022-05-12T08:43:49.830+00:00', 'mode': 'paper', 'status': 'ok'}"
      ]
     },
     "execution_count": 8,
     "metadata": {},
     "output_type": "execute_result"
    }
   ],
   "source": [
    "activate_trade(order_id)"
   ]
  },
  {
   "cell_type": "markdown",
   "metadata": {},
   "source": [
    "You just placed and executed your first lemon.markets trade! Pretty easy, right? The rest of our API is equally intuitive, check out our [documentation](https://docs.lemon.markets/) to get started."
   ]
  }
 ],
 "metadata": {
  "kernelspec": {
   "display_name": "Python 3",
   "language": "python",
   "name": "python3"
  },
  "language_info": {
   "codemirror_mode": {
    "name": "ipython",
    "version": 3
   },
   "file_extension": ".py",
   "mimetype": "text/x-python",
   "name": "python",
   "nbconvert_exporter": "python",
   "pygments_lexer": "ipython3",
   "version": "3.7.6"
  }
 },
 "nbformat": 4,
 "nbformat_minor": 4
}
