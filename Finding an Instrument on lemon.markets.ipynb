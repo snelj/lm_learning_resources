{
 "cells": [
  {
   "cell_type": "markdown",
   "metadata": {},
   "source": [
    "# Finding an instrument on lemon.markets\n",
    "\n",
    "In this script, you'll learn how to search for an instrument using the lemon.markets market data API. You can search by name, ISIN, WKN or other search terms. For a full overview, refer to our [documentation](https://docs.lemon.markets/).\n",
    "\n",
    "You'll need to fill in your own `API_KEY`, which you'll receive upon [signing up](https://dashboard.lemon.markets/signup/) to lemon.markets.\n",
    "\n",
    "You can also find a [quickstart guide](https://docs.lemon.markets/quickstart) and detailed explanation of the [`/instruments` endpoint](https://docs.lemon.markets/market-data/instruments-tradingvenues#finding-an-instrument) in our documentation. 🍋\n",
    "\n",
    "We'll begin by importing the relevant libraries and setting up our project."
   ]
  },
  {
   "cell_type": "code",
   "execution_count": 1,
   "metadata": {},
   "outputs": [],
   "source": [
    "# import library\n",
    "import requests"
   ]
  },
  {
   "cell_type": "code",
   "execution_count": 9,
   "metadata": {},
   "outputs": [],
   "source": [
    "# base URL for market data API\n",
    "URL = \"https://data.lemon.markets/v1/\"\n",
    "\n",
    "# fill in your own API key here\n",
    "API_KEY = \"\""
   ]
  },
  {
   "cell_type": "markdown",
   "metadata": {},
   "source": [
    "To search for an instrument, the base URL needs to be appended with the `/instruments` endpoint, along with the query parameters by which we wish to search. To get an idea of what this may look like, if you are searching for the Coinbase stock, the URL would look as follows:\n",
    "\n",
    "`https://data.lemon.markets/v1/instruments/?search=coinbase&type=stock`.\n",
    "\n",
    "Let's set up a function that flexibly allows you to fill in the relevant query parameters and appends them to the URL as above.  "
   ]
  },
  {
   "cell_type": "code",
   "execution_count": 10,
   "metadata": {},
   "outputs": [],
   "source": [
    "def find_instrument(isin: str = None, search: str = None, type: str = None, mic: str = None, currency: str = None, tradable: bool = None):\n",
    "    queries: list = []\n",
    "        \n",
    "    # if query parameter specified, then add to 'queries' list    \n",
    "    if isin is not None:\n",
    "        queries.append(f\"isin={isin}\")\n",
    "    if search is not None:\n",
    "        queries.append(f\"search={search}\")\n",
    "    if type is not None:\n",
    "        queries.append(f\"type={type}\")\n",
    "    if mic is not None:\n",
    "        queries.append(f\"mic={mic}\")\n",
    "    if currency is not None:\n",
    "        queries.append(f\"currency={currency}\")\n",
    "    if tradable is not None:\n",
    "        queries.append(f\"tradable={tradable}\")\n",
    "    \n",
    "    # if queries non-empty, append URL with endpoint & relevant query parameters\n",
    "    if queries:\n",
    "        instrument_url = URL + \"instruments/?\" + \"&\".join(queries)\n",
    "    # if queries empty, append URL with endpoint\n",
    "    else:\n",
    "        instrument_url = URL + \"instruments\"\n",
    "        \n",
    "    print(instrument_url)\n",
    "            \n",
    "    # place request with authorization\n",
    "    request = requests.get(instrument_url,\n",
    "                          headers={\"Authorization\": \"Bearer \" + API_KEY})\n",
    "    \n",
    "    return request.json()\n",
    "    "
   ]
  },
  {
   "cell_type": "markdown",
   "metadata": {},
   "source": [
    "Let's use the function we just defined to find the Coinbase stock."
   ]
  },
  {
   "cell_type": "code",
   "execution_count": 8,
   "metadata": {
    "scrolled": true
   },
   "outputs": [
    {
     "name": "stdout",
     "output_type": "stream",
     "text": [
      "https://data.lemon.markets/v1/instruments/?search=Coinbase&type=stock\n"
     ]
    },
    {
     "data": {
      "text/plain": [
       "{'time': '2022-05-24T08:34:13.893+00:00',\n",
       " 'results': [{'isin': 'US19260Q1076',\n",
       "   'wkn': 'A2QP7J',\n",
       "   'name': 'COINBASE GLB.CL.A -,00001',\n",
       "   'title': 'COINBASE GLOBAL INC.',\n",
       "   'symbol': '1QZ',\n",
       "   'type': 'stock',\n",
       "   'venues': [{'name': 'Börse München - Gettex',\n",
       "     'title': 'Gettex',\n",
       "     'mic': 'XMUN',\n",
       "     'is_open': True,\n",
       "     'tradable': True,\n",
       "     'currency': 'EUR'}]}],\n",
       " 'previous': None,\n",
       " 'next': None,\n",
       " 'total': 1,\n",
       " 'page': 1,\n",
       " 'pages': 1}"
      ]
     },
     "execution_count": 8,
     "metadata": {},
     "output_type": "execute_result"
    }
   ],
   "source": [
    "find_instrument(\n",
    "                # isin = \"US19260Q1076\", \n",
    "                search = \"coinbase\",\n",
    "                type = \"stock\",\n",
    "                # mic = \"xmun\",\n",
    "                # currency = \"eur\", \n",
    "                # tradable = \"true\"\n",
    "               )"
   ]
  },
  {
   "cell_type": "markdown",
   "metadata": {},
   "source": [
    "You'll notice that the URL looks identical to the one we proposed earlier. \n",
    "\n",
    "You just searched for your first lemon.markets instrument! Pretty easy, right? The rest of our API is equally intuitive, check out our [documentation](https://docs.lemon.markets/) to get started."
   ]
  }
 ],
 "metadata": {
  "kernelspec": {
   "display_name": "Python 3",
   "language": "python",
   "name": "python3"
  },
  "language_info": {
   "codemirror_mode": {
    "name": "ipython",
    "version": 3
   },
   "file_extension": ".py",
   "mimetype": "text/x-python",
   "name": "python",
   "nbconvert_exporter": "python",
   "pygments_lexer": "ipython3",
   "version": "3.7.6"
  }
 },
 "nbformat": 4,
 "nbformat_minor": 4
}
