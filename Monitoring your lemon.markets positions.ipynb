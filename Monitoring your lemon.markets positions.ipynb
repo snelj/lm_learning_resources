{
 "cells": [
  {
   "cell_type": "markdown",
   "metadata": {},
   "source": [
    "# Monitoring your lemon.markets positions\n",
    "In this script, you'll learn how to monitor your lemon.markets positions. The `/positions` endpoint offers an in-depth overview of all the instruments you currently hold in your lemon.markets portfolio. \n",
    "\n",
    "To use this script, you'll need to fill in your own `API_KEY`, which you'll receive upon [signing up](https://dashboard.lemon.markets/signup/) to lemon.markets.\n",
    "\n",
    "Let's begin by importing the relevant library and setting up our project. "
   ]
  },
  {
   "cell_type": "code",
   "execution_count": 4,
   "metadata": {},
   "outputs": [],
   "source": [
    "# import library\n",
    "import requests"
   ]
  },
  {
   "cell_type": "code",
   "execution_count": 5,
   "metadata": {},
   "outputs": [],
   "source": [
    "# base URL for trading API\n",
    "URL = \"https://paper-trading.lemon.markets/v1/\"\n",
    "\n",
    "# fill in your own API key here\n",
    "API_KEY = \"\""
   ]
  },
  {
   "cell_type": "markdown",
   "metadata": {},
   "source": [
    "Let's define a function to place a request against the `/positions` endpoint. "
   ]
  },
  {
   "cell_type": "code",
   "execution_count": 6,
   "metadata": {},
   "outputs": [],
   "source": [
    "def get_positions(page: int):\n",
    "    \n",
    "    request = requests.get(URL + f\"positions/?page={page}\",\n",
    "                           headers={\"Authorization\":\"Bearer \" + API_KEY})\n",
    "    return request.json()"
   ]
  },
  {
   "cell_type": "markdown",
   "metadata": {},
   "source": [
    "We can now see what kind of output the endpoint produces. "
   ]
  },
  {
   "cell_type": "code",
   "execution_count": 7,
   "metadata": {
    "scrolled": false
   },
   "outputs": [
    {
     "data": {
      "text/plain": [
       "{'time': '2022-05-24T08:51:50.130+00:00',\n",
       " 'status': 'ok',\n",
       " 'mode': 'paper',\n",
       " 'results': [{'isin': 'US98138H1014',\n",
       "   'isin_title': 'WORKDAY INC.',\n",
       "   'quantity': 3,\n",
       "   'buy_price_avg': 2663833,\n",
       "   'estimated_price_total': 4559400,\n",
       "   'estimated_price': 1519800},\n",
       "  {'isin': 'US4370761029',\n",
       "   'isin_title': 'HOME DEPOT INC., THE',\n",
       "   'quantity': 3,\n",
       "   'buy_price_avg': 3483333,\n",
       "   'estimated_price_total': 7929000,\n",
       "   'estimated_price': 2643000},\n",
       "  {'isin': 'US92826C8394',\n",
       "   'isin_title': 'VISA INC.',\n",
       "   'quantity': 3,\n",
       "   'buy_price_avg': 1795867,\n",
       "   'estimated_price_total': 5730000,\n",
       "   'estimated_price': 1910000},\n",
       "  {'isin': 'US5486611073',\n",
       "   'isin_title': \"LOWE'S COMPANIES INC.\",\n",
       "   'quantity': 3,\n",
       "   'buy_price_avg': 2173000,\n",
       "   'estimated_price_total': 5182200,\n",
       "   'estimated_price': 1727400},\n",
       "  {'isin': 'GB00BWFGQN14',\n",
       "   'isin_title': 'SPIRAX-SARCO ENGINEERING PLC',\n",
       "   'quantity': 2,\n",
       "   'buy_price_avg': 1530000,\n",
       "   'estimated_price_total': 2480000,\n",
       "   'estimated_price': 1240000},\n",
       "  {'isin': 'US83406F1021',\n",
       "   'isin_title': 'SOFI TECHNOLOGIES INC.',\n",
       "   'quantity': 2,\n",
       "   'buy_price_avg': 187825,\n",
       "   'estimated_price_total': 132980,\n",
       "   'estimated_price': 66490},\n",
       "  {'isin': 'US0231351067',\n",
       "   'isin_title': 'AMAZON.COM INC.',\n",
       "   'quantity': 2,\n",
       "   'buy_price_avg': 28060000,\n",
       "   'estimated_price_total': 39212000,\n",
       "   'estimated_price': 19606000},\n",
       "  {'isin': 'MHY7542C1306',\n",
       "   'isin_title': 'SCORPIO TANKERS INC.',\n",
       "   'quantity': 1,\n",
       "   'buy_price_avg': 166450,\n",
       "   'estimated_price_total': 286850,\n",
       "   'estimated_price': 286850},\n",
       "  {'isin': 'US22788C1053',\n",
       "   'isin_title': 'CROWDSTRIKE HOLDINGS INC',\n",
       "   'quantity': 1,\n",
       "   'buy_price_avg': 1749199,\n",
       "   'estimated_price_total': 1360600,\n",
       "   'estimated_price': 1360600},\n",
       "  {'isin': 'CA03785Y1007',\n",
       "   'isin_title': 'APPLE INC.',\n",
       "   'quantity': 1,\n",
       "   'buy_price_avg': 184000,\n",
       "   'estimated_price_total': 157000,\n",
       "   'estimated_price': 157000}],\n",
       " 'previous': 'https://paper-trading.lemon.markets/v1/positions/?page=1',\n",
       " 'next': 'https://paper-trading.lemon.markets/v1/positions/?page=3',\n",
       " 'total': 24,\n",
       " 'page': 2,\n",
       " 'pages': 3}"
      ]
     },
     "execution_count": 7,
     "metadata": {},
     "output_type": "execute_result"
    }
   ],
   "source": [
    "# get page 2 of positions\n",
    "get_positions(2)"
   ]
  },
  {
   "cell_type": "markdown",
   "metadata": {},
   "source": [
    "What can we do with this output? How about calculating your total portfolio value? Let's collect the `estimated_price_total` for each instrument. "
   ]
  },
  {
   "cell_type": "code",
   "execution_count": 8,
   "metadata": {},
   "outputs": [],
   "source": [
    "def get_total(positions: dict):\n",
    "    \n",
    "    total_positions = 0\n",
    "                \n",
    "    for position in positions:\n",
    "        total_positions += position.get('estimated_price_total')\n",
    "        \n",
    "    return total_positions"
   ]
  },
  {
   "cell_type": "markdown",
   "metadata": {},
   "source": [
    "Let's use this method. It is important to note that the `get_positions()` method only returns the positions on one page, therefore we need to specify that we wish to retrieve all positions. We've defined this explicitly, but the method can also be adapted directly to achieve the same result. "
   ]
  },
  {
   "cell_type": "code",
   "execution_count": 13,
   "metadata": {},
   "outputs": [
    {
     "name": "stdout",
     "output_type": "stream",
     "text": [
      "Your total portfolio is worth €15662.42.\n"
     ]
    }
   ],
   "source": [
    "positions = get_positions(1).get('results') + get_positions(2).get('results') + get_positions(3).get('results')\n",
    "print(f\"Your total portfolio is worth €{round(get_total(positions)/10000,2)}.\")"
   ]
  },
  {
   "cell_type": "markdown",
   "metadata": {},
   "source": [
    "Using the `/positions` endpoint is as easy as that. Check out our [documentation](https://docs.lemon.markets/) if you'd like a more detailed overview of what you can do with the lemon.markets trading API. 🍋"
   ]
  }
 ],
 "metadata": {
  "kernelspec": {
   "display_name": "Python 3",
   "language": "python",
   "name": "python3"
  },
  "language_info": {
   "codemirror_mode": {
    "name": "ipython",
    "version": 3
   },
   "file_extension": ".py",
   "mimetype": "text/x-python",
   "name": "python",
   "nbconvert_exporter": "python",
   "pygments_lexer": "ipython3",
   "version": "3.7.6"
  }
 },
 "nbformat": 4,
 "nbformat_minor": 4
}
